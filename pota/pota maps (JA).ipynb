{
  "nbformat": 4,
  "nbformat_minor": 0,
  "metadata": {
    "colab": {
      "provenance": [],
      "authorship_tag": "ABX9TyMcVsl8DR5QHJRED4kMnodT"
    },
    "kernelspec": {
      "name": "python3",
      "display_name": "Python 3"
    },
    "language_info": {
      "name": "python"
    }
  },
  "cells": [
    {
      "cell_type": "code",
      "execution_count": 2,
      "metadata": {
        "colab": {
          "base_uri": "https://localhost:8080/"
        },
        "id": "CNkb5QlDneJ0",
        "outputId": "b4ede4b4-c61e-49a8-dc55-3862c2f30f3d"
      },
      "outputs": [
        {
          "output_type": "stream",
          "name": "stdout",
          "text": [
            "Begin\n",
            "Drive already mounted at /content/drive; to attempt to forcibly remount, call drive.mount(\"/content/drive\", force_remount=True).\n"
          ]
        },
        {
          "output_type": "stream",
          "name": "stderr",
          "text": [
            "<ipython-input-2-ebc4c3592e27>:41: FutureWarning: The default value of numeric_only in DataFrameGroupBy.sum is deprecated. In a future version, numeric_only will default to False. Either specify numeric_only or select only columns which should be valid for the function.\n",
            "  acthunt_pref_group = acthunt_pref.groupby(\"locationName\").sum().iloc[:,:7].reset_index()\n",
            "<ipython-input-2-ebc4c3592e27>:49: DeprecationWarning: In a future version, `df.iloc[:, i] = newvals` will attempt to set the values inplace instead of always setting a new array. To retain the old behavior, use either `df[df.columns[i]] = newvals` or, if columns are non-unique, `df.isetitem(i, newvals)`\n",
            "  acthunt_pref_map.loc[acthunt_pref_map[\"my_activations\"] >= 0,\"color\"] = (acthunt_pref_map[\"my_activations\"] > 0 )* 2 + (acthunt_pref_map[\"my_hunted_qsos\"]> 0)\n"
          ]
        },
        {
          "output_type": "stream",
          "name": "stdout",
          "text": [
            "End\n"
          ]
        }
      ],
      "source": [
        "#\n",
        "# Google Drive に pota フォルダーと pota/maps フォルダーを作成\n",
        "# Japan (JA).csv：Map List の Japan を選択し、CSファイルをダウンロード。potaフォルダーにコピー\n",
        "#\n",
        "\n",
        "# ライブラリのインポート\n",
        "import os\n",
        "import shutil\n",
        "import folium\n",
        "import pandas as pd\n",
        "\n",
        "# 'red', 'blue', 'green', 'purple', 'orange', 'darkred', 'lightred', 'beige',\n",
        "# 'darkblue', 'darkgreen', 'cadetblue', 'darkpurple', 'white', 'pink',\n",
        "# 'lightblue', 'lightgreen', 'gray', 'black', 'lightgray'\n",
        "\n",
        "# none, hunt, activate, hunt/activate\n",
        "point_colors = ['red', 'blue', 'green', 'orange']\n",
        "\n",
        "print(\"Begin\")\n",
        "\n",
        "# Googleドライブのマウント\n",
        "from google.colab import drive\n",
        "drive.mount(\"/content/drive\")\n",
        "\n",
        "# pota/maps ディレクトリの削除\n",
        "shutil.rmtree(\"/content/drive/My Drive/pota/maps\")\n",
        "# pota/mas ディレクトリの作成\n",
        "os.mkdir(\"/content/drive/My Drive/pota/maps\")\n",
        "\n",
        "# アクティベート、ハント情報の読み込み\n",
        "acthunt=pd.read_csv(\"/content/drive/My Drive/pota/Japan (JA).csv\")\n",
        "acthunt = acthunt.rename(columns={\"reference\":\"Reference\"})\n",
        "\n",
        "# 都道府県情報の読み込み\n",
        "prefectures = pd.read_json(\"https://tyjcode.github.io/y001/prefectures.json\")\n",
        "\n",
        "# アクティベート、ハント情報に都道府県情報をマージ\n",
        "acthunt_pref = pd.merge(acthunt, prefectures, on=\"locationDesc\")\n",
        "\n",
        "# 都道府県でグルーピング\n",
        "acthunt_pref_group = acthunt_pref.groupby(\"locationName\").sum().iloc[:,:7].reset_index()\n",
        "\n",
        "# 公園情報の読み込み\n",
        "parks = pd.read_json(\"https://tyjcode.github.io/y001/parks-latest.json\")\n",
        "parks = parks.drop({\"latitude\",\"longitude\"}, axis=1)\n",
        "\n",
        "# 公園情報をマージ\n",
        "acthunt_pref_map = pd.merge(acthunt_pref, parks, on=\"Reference\")\n",
        "acthunt_pref_map.loc[acthunt_pref_map[\"my_activations\"] >= 0,\"color\"] = (acthunt_pref_map[\"my_activations\"] > 0 )* 2 + (acthunt_pref_map[\"my_hunted_qsos\"]> 0)\n",
        "acthunt_pref_map.head()\n",
        "\n",
        "\n",
        "#\n",
        "# 全国地図にプロット\n",
        "# max_widthを入れないと縦書きになる\n",
        "#\n",
        "map = folium.Map(location=[35.7503, 139.523], zoom_start=6)\n",
        "\n",
        "for i, r in acthunt_pref_map.iterrows():\n",
        "  name_pop = folium.Popup(f'{r[\"Reference\"]}<br/>{r[\"日本語名\"]}<br/>{r[\"my_activations\"]}  {r[\"my_hunted_qsos\"]}', max_width=1000)\n",
        "  icon_color = point_colors[r[\"color\"]]\n",
        "  folium.Marker(location=[r[\"latitude\"], r[\"longitude\"]], popup=name_pop,icon=folium.Icon(color=icon_color)).add_to(map)\n",
        "\n",
        "# 地図の作成\n",
        "map.save(\"/content/drive/My Drive/pota/maps/map_parks.html\")\n",
        "\n",
        "#\n",
        "# ハントした都道府県別に地図を作成\n",
        "#\n",
        "for j, h in acthunt_pref_group.iterrows():\n",
        "  #print(h[\"locationName\"],h[\"my_activations\"],h[\"my_hunted_qsos\"])\n",
        "\n",
        "  # 都道府県毎に抽出\n",
        "  acthunt_pref_map_pref = acthunt_pref_map.query('locationName_x==\"{}\"'.format(h[\"locationName\"])).reset_index()\n",
        "\n",
        "  # ２つ目の公園を中心に地図を作成\n",
        "  map2 = folium.Map(location=[acthunt_pref_map_pref.loc[1,\"latitude\"], acthunt_pref_map_pref.loc[1,\"longitude\"]], zoom_start=10)\n",
        "\n",
        "  # 公園をポイント\n",
        "  for i, r in acthunt_pref_map_pref.iterrows():\n",
        "    name_pop = folium.Popup(f'{r[\"Reference\"]}<br/>{r[\"日本語名\"]}<br/>{r[\"my_activations\"]}  {r[\"my_hunted_qsos\"]}', max_width=1000)\n",
        "    icon_color = point_colors[r[\"color\"]]\n",
        "    folium.Marker(location=[r[\"latitude\"], r[\"longitude\"]], popup=name_pop,icon=folium.Icon(color=icon_color)).add_to(map2)\n",
        "\n",
        "  # 地図の作成\n",
        "  map2.save(f'/content/drive/My Drive/pota/maps/map_parks2_{h[\"locationName\"]}_{h[\"my_activations\"]}_{h[\"my_hunted_qsos\"]}.html')\n",
        "\n",
        "print(\"End\")"
      ]
    }
  ]
}